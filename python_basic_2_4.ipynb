{
 "cells": [
  {
   "cell_type": "markdown",
   "metadata": {},
   "source": [
    "# An introduction to solving biological problems with Python\n",
    "\n",
    "## Session 2.4: Delimited files\n",
    "\n",
    "- [Data formats](#Data-formats)\n",
    "- [Exercises 2.4.1](#Exercises-2.4.1)\n",
    "- [Exercises 2.4.2](#Exercises-2.4.2)\n",
    "- [Exercises 2.4.3](#Exercises-2.4.3)"
   ]
  },
  {
   "cell_type": "markdown",
   "metadata": {},
   "source": [
    "## Data formats"
   ]
  },
  {
   "cell_type": "markdown",
   "metadata": {},
   "source": [
    "Bioinformaticians love creating endless new file formats for their data, but there is one very common standard format\n",
    "that it is good to get used to parsing."
   ]
  },
  {
   "cell_type": "markdown",
   "metadata": {},
   "source": [
    "Delimited file example:\n",
    "```\n",
    "X 169008682 1 111267453 1.0976\n",
    "2 8265484 5 69763543 4.9825\n",
    "MT 10924 MT 81934 7.2357\n",
    "3 127 8 10908776 1.2509\n",
    "```"
   ]
  },
  {
   "cell_type": "markdown",
   "metadata": {},
   "source": [
    "### Reading delimited files"
   ]
  },
  {
   "cell_type": "markdown",
   "metadata": {},
   "source": [
    "We can use the various string manipulation techniques covered earlier to process delimited files in a fairly straightforward way. Here we loop through a file with columns delimited by spaces, reading the data for each row into a list, and storing each of these lists into a main results list."
   ]
  },
  {
   "cell_type": "markdown",
   "metadata": {},
   "source": [
    "To view the an example of a delimited file, open a terminal window, go to the course directory, and print the content of the file using `cat` command or open it using your favourite editor. Note: `cat` will open the entire file.\n",
    "\n",
    "```bash\n",
    "cat data/mydata.txt\n",
    "```\n",
    "\n",
    "```\n",
    "Index Organism Score\n",
    "1 Human 1.076\n",
    "2 Mouse 1.202\n",
    "3 Frog 2.2362\n",
    "4 Fly 0.9853\n",
    "```"
   ]
  },
  {
   "cell_type": "code",
   "execution_count": 2,
   "metadata": {},
   "outputs": [
    {
     "name": "stdout",
     "output_type": "stream",
     "text": [
      "[['1', 'Human', '1.076'], ['2', 'Mouse', '1.202'], ['3', 'Frog', '2.2362'], ['4', 'Fly', '0.9853']]\n"
     ]
    }
   ],
   "source": [
    "results = []\n",
    "\n",
    "with open(\"data/mydata.txt\", \"r\") as data:\n",
    "    header = data.readline() #read the first line and knows that its a header so wont include that in our empty variable\n",
    "    for line in data: #for loop will read all other lines\n",
    "        results.append(line.split()) #will split on whitespace unless defined otherwise\n",
    "        #lines read will be added to the empty variable results\n",
    "        \n",
    "print(results)"
   ]
  },
  {
   "cell_type": "markdown",
   "metadata": {},
   "source": [
    "Here we show a slightly more complicated example where we are reading the results into a more convenient data structure, a list of dictionaries with the dictionary keys corresponding to the column headers and the values to the values from each line. We also convert the columns to an appropriate type as we go."
   ]
  },
  {
   "cell_type": "code",
   "execution_count": 5,
   "metadata": {},
   "outputs": [
    {
     "name": "stdout",
     "output_type": "stream",
     "text": [
      "[{'Index': 1, 'Organism': 'Human', 'Score': 1.076}, {'Index': 2, 'Organism': 'Mouse', 'Score': 1.202}, {'Index': 3, 'Organism': 'Frog', 'Score': 2.2362}, {'Index': 4, 'Organism': 'Fly', 'Score': 0.9853}]\n",
      "Score of first row: 1.076\n"
     ]
    }
   ],
   "source": [
    "#we will add a dictionary to a list called results which will start as an empty variable\n",
    "results = []\n",
    "\n",
    "with open(\"data/mydata.txt\", \"r\") as data:\n",
    "    header = data.readline()\n",
    "    for line in data:\n",
    "        idx, org, score = line.split()\n",
    "        row = {'Index': int(idx), 'Organism': org, 'Score': float(score)} #defines what the keys will be in the dictorionary being created\n",
    "        results.append(row) #add dictionaries as rows\n",
    "        \n",
    "print(results)\n",
    "print('Score of first row:', results[0]['Score']) #tells us the value of the key 0"
   ]
  },
  {
   "cell_type": "markdown",
   "metadata": {},
   "source": [
    "### Writing delimited files"
   ]
  },
  {
   "cell_type": "markdown",
   "metadata": {},
   "source": [
    "Writing out a delimited file is also straightforward using the `join` method. Here, as an example we will recreate our original file from above, but this time we will delimit the columns with a comma."
   ]
  },
  {
   "cell_type": "code",
   "execution_count": 6,
   "metadata": {},
   "outputs": [],
   "source": [
    "mydata = [{'Organism': 'Human', 'Index': 1, 'Score': 1.076}, \n",
    "          {'Organism': 'Mouse', 'Index': 2, 'Score': 1.202}, \n",
    "          {'Organism': 'Frog', 'Index': 3, 'Score': 2.2362}, \n",
    "          {'Organism': 'Fly', 'Index': 4, 'Score': 0.9853}]\n",
    "\n",
    "with open('data/mydata.csv', 'w') as output:\n",
    "    # write a header\n",
    "    header = \",\".join(['Index', 'Organism', 'Score'])\n",
    "    output.write(header + \"\\n\")\n",
    "    for row in mydata:\n",
    "        line = \",\".join([str(row['Index']), row['Organism'], str(row['Score'])])\n",
    "        output.write(line + \"\\n\")"
   ]
  },
  {
   "cell_type": "markdown",
   "metadata": {},
   "source": [
    "To view the output file, open a terminal window, go to the course directory, and print the content of the file using `cat` command or open it using your favourite editor:\n",
    "\n",
    "```bash\n",
    "cat data/mydata.csv\n",
    "```\n",
    "\n",
    "```\n",
    "Index,Organism,Score\n",
    "1,Human,1.076\n",
    "2,Mouse,1.202\n",
    "3,Frog,2.2362\n",
    "4,Fly,0.9853\n",
    "```"
   ]
  },
  {
   "cell_type": "markdown",
   "metadata": {},
   "source": [
    "## Last but not least\n",
    "\n",
    "### A big thank you!\n",
    "\n",
    "### Remember...\n",
    "- Our course webpage: http://pycam.github.io\n",
    "- The Python website: https://www.python.org/ \n",
    "- To fill the course survey ;-)\n",
    "- To come to our next course 'Working with Python: functions and modules' and register at https://training.csx.cam.ac.uk/"
   ]
  },
  {
   "cell_type": "markdown",
   "metadata": {},
   "source": [
    "## Exercises 2.4.1\n",
    "\n",
    "Write a script that reads a tab delimited file which has 4 columns: gene, chromosome, start and end coordinates; that computes each gene's length and stores it into a dictionary; and writes the results into a new tab separated file. You can find a data file in ` data/genes.txt` directory of the course materials."
   ]
  },
  {
   "cell_type": "code",
   "execution_count": 15,
   "metadata": {},
   "outputs": [
    {
     "name": "stdout",
     "output_type": "stream",
     "text": [
      "[{'gene': 'BRCA2', 'length': 84195}, {'gene': 'TNFAIP3', 'length': 16099}, {'gene': 'TCF7', 'length': 37155}]\n"
     ]
    }
   ],
   "source": [
    "gene_file=\"data/genes.txt\" #easier to run on python on the command line\n",
    "output_file=\"data/gene_lengths.txt\"\n",
    "\n",
    "results=[]\n",
    "\n",
    "with open(gene_file) as f:\n",
    "    header = f.readline() #will read the first line, which is a header, and tell python that this is a header\n",
    "    for line in f: #now let's read every other line\n",
    "        gene, chrom, start, end = line.strip().split(\"\\t\")\n",
    "        \n",
    "        row = {'gene': gene,'length': int(end)-int(start)+1} #+1 makes sure it includes also the position for the start and end bases\n",
    "        results.append(row)\n",
    "\n",
    "print(results)\n",
    "  \n",
    "with open(output_file,\"w\") as out1:\n",
    "    out1.write('gene'+'\\t'+'length'+'\\n')\n",
    "    for record in results:\n",
    "        out1.write(record['gene']+'\\t'+str(record['length'])+'\\n') #this \\n is important to separate each row info into separate lines\n",
    "        \n"
   ]
  },
  {
   "cell_type": "markdown",
   "metadata": {},
   "source": [
    "Trick to learn: if you press tab, it will intent a chunk of your text, if you press Shift + tab, then this will de-indent your text."
   ]
  },
  {
   "cell_type": "markdown",
   "metadata": {},
   "source": [
    "## Exercises 2.4.2 \n",
    "\n",
    "Read the lyrics of Imagine by John Lennon, 1971 from the file in `data/imagine.txt`. Split the text into words. Print the total number of words, and the number of distinct words. Calculate the frequency of each distinct word and store the result into a dictionary. Print each distinct word along with its frequency. Find the most frequent word longer than 3 characters in the song, print it with its frequency.\n",
    "\n",
    "<center><img src=\"https://upload.wikimedia.org/wikipedia/en/1/1d/John_Lennon_-_Imagine_John_Lennon.jpg\"/></center>"
   ]
  },
  {
   "cell_type": "code",
   "execution_count": 30,
   "metadata": {},
   "outputs": [
    {
     "name": "stdout",
     "output_type": "stream",
     "text": [
      "['imagine', \"there's\", 'no', 'heaven', \"it's\", 'easy', 'if', 'you', 'try', 'no', 'hell', 'below', 'us', 'above', 'us', 'only', 'sky', 'imagine', 'all', 'the', 'people', 'living', 'for', 'today', 'aaa', 'haa', 'imagine', \"there's\", 'no', 'countries', 'it', \"isn't\", 'hard', 'to', 'do', 'nothing', 'to', 'kill', 'or', 'die', 'for', 'and', 'no', 'religion', 'too', 'imagine', 'all', 'the', 'people', 'living', 'life', 'in', 'peace', 'yoo', 'hoo', 'you', 'may', 'say', \"i'm\", 'a', 'dreamer', 'but', \"i'm\", 'not', 'the', 'only', 'one', 'i', 'hope', 'someday', \"you'll\", 'join', 'us', 'and', 'the', 'world', 'will', 'be', 'as', 'one', 'imagine', 'no', 'possessions', 'i', 'wonder', 'if', 'you', 'can', 'no', 'need', 'for', 'greed', 'or', 'hunger', 'a', 'brotherhood', 'of', 'man', 'imagine', 'all', 'the', 'people', 'sharing', 'all', 'the', 'world', 'yoo', 'hoo', 'you', 'may', 'say', \"i'm\", 'a', 'dreamer', 'but', \"i'm\", 'not', 'the', 'only', 'one', 'i', 'hope', 'someday', \"you'll\", 'join', 'us', 'and', 'the', 'world', 'will', 'live', 'as', 'one']\n",
      "There are 133 words in the text\n",
      "There are 69 unique words in the text\n",
      "1 \t heaven\n",
      "2 \t hope\n",
      "6 \t no\n",
      "1 \t of\n",
      "1 \t kill\n",
      "3 \t people\n",
      "1 \t sky\n",
      "1 \t it\n",
      "3 \t and\n",
      "4 \t one\n",
      "3 \t world\n",
      "1 \t hard\n",
      "2 \t you'll\n",
      "1 \t hell\n",
      "1 \t it's\n",
      "1 \t above\n",
      "1 \t greed\n",
      "2 \t but\n",
      "1 \t easy\n",
      "1 \t do\n",
      "1 \t sharing\n",
      "1 \t life\n",
      "2 \t living\n",
      "2 \t hoo\n",
      "3 \t i\n",
      "4 \t us\n",
      "4 \t all\n",
      "2 \t join\n",
      "1 \t be\n",
      "1 \t in\n",
      "1 \t man\n",
      "3 \t only\n",
      "4 \t you\n",
      "2 \t will\n",
      "8 \t the\n",
      "1 \t wonder\n",
      "2 \t yoo\n",
      "1 \t too\n",
      "4 \t i'm\n",
      "1 \t can\n",
      "1 \t countries\n",
      "1 \t hunger\n",
      "2 \t say\n",
      "2 \t not\n",
      "1 \t try\n",
      "2 \t there's\n",
      "1 \t haa\n",
      "1 \t below\n",
      "1 \t brotherhood\n",
      "1 \t aaa\n",
      "2 \t someday\n",
      "1 \t nothing\n",
      "1 \t peace\n",
      "2 \t may\n",
      "6 \t imagine\n",
      "2 \t as\n",
      "2 \t to\n",
      "1 \t possessions\n",
      "1 \t die\n",
      "2 \t dreamer\n",
      "1 \t isn't\n",
      "3 \t a\n",
      "1 \t need\n",
      "2 \t if\n",
      "1 \t live\n",
      "3 \t for\n",
      "1 \t religion\n",
      "1 \t today\n",
      "2 \t or\n",
      "imagine 6\n"
     ]
    }
   ],
   "source": [
    "with open('data/imagine1.txt') as f:\n",
    "    lyrics = f.read()\n",
    "    \n",
    "lyrics = lyrics.lower() #change all words to lower case because python is case sensitive\n",
    "\n",
    "words = lyrics.split() #splitting text into words\n",
    "print(words)\n",
    "\n",
    "#print the total number of words\n",
    "print(\"There are\", len(words), \"words in the text\")\n",
    "\n",
    "#print the number of distinct words\n",
    "unique_words = set(words)\n",
    "print(\"There are\", len(unique_words),\"unique words in the text\")\n",
    "\n",
    "#calculate the frequency of each distinc word\n",
    "results={} #place it in a dictionary\n",
    "for w in unique_words:\n",
    "    results[w] = words.count(w)\n",
    "    \n",
    "# Print each unique word along with its frequency\n",
    "for r in results:\n",
    "    print(results[r], '\\t', r)\n",
    "\n",
    "#print the word with its frequency\n",
    "most_frequent =0\n",
    "for r in results:\n",
    "    if (results[r] > most_frequent and (len(r)>3)):\n",
    "        most_frequent = results[r]\n",
    "        most_frequent_word = r\n",
    "        \n",
    "print(most_frequent_word, most_frequent)"
   ]
  },
  {
   "cell_type": "markdown",
   "metadata": {},
   "source": [
    "## Exercises 2.4.3 \n",
    "#### Real life example\n",
    "\n",
    "You have a tab separated file which contains information about all the yeast (*S.cerevisiae*) genes `data/yeast_genes.txt`:\n",
    "\n",
    "`Systematic_name\tStandard_name\tChromosome\tStart\t    End\n",
    "YBR127C             VMA2             chrII         491269      492822\n",
    "YBR128C             ATG14            chrII         493081      494115\n",
    "...\n",
    "`\n",
    "\n",
    "For every gene, its location and coordinates are recorded. \n",
    "You should read through the file and store the data into an appropriate structure.\n",
    "Then answer these questions:\n",
    "\n",
    "- How many genes are there in *S.cerevisiae*?\n",
    "- Which is  the longest and which is the shortest gene?\n",
    "- How many genes per chromosome? Print the number of genes per chromosome.\n",
    "- For each chromosome, what is the longest and what is the shortest gene?\n",
    "- For each chromosome, how many genes on the Watson strand and how many genes on the Crick strand?\n",
    "\n",
    "**bonus** \n",
    "\n",
    "- What is the chromosome with the highest gene density? You can calculate the length of each chromosome assuming that they start at 1 and they end at the end (if on the Watson strand) or at the start (if on the Crick strand) of their last gene. Then you can calculate the length of all the genes on each chromosome and the ratio between coding vs. noncoding regions."
   ]
  },
  {
   "cell_type": "code",
   "execution_count": 32,
   "metadata": {},
   "outputs": [
    {
     "name": "stdout",
     "output_type": "stream",
     "text": [
      "There are 4 genes in S.cerevisiae.\n",
      "The shortest gene is TLC1 which is 1 bases long.\n",
      "The longest gene is YLR106C which is 14733 bases long.\n",
      "chrXIV has 459 genes\n",
      "chrXIII has 551 genes\n",
      "chrXI has 375 genes\n",
      "chrVI has 161 genes\n",
      "chrmt has 58 genes\n",
      "chrI has 131 genes\n",
      "chrVII has 642 genes\n",
      "chrV has 360 genes\n",
      "chrVIII has 340 genes\n",
      "chrIX has 264 genes\n",
      "chrXV has 640 genes\n",
      "chrIII has 253 genes\n",
      "chrX has 438 genes\n",
      "chrXII has 644 genes\n",
      "chrXVI has 548 genes\n",
      "chrIV has 889 genes\n",
      "chrII has 485 genes\n",
      "On chrom chrXIV the shortest gene is tD(GUC)N ( 71 ) and the longest is YNR016C ( 6702 )\n",
      "On chrom chrXIII the shortest gene is ZOD1 ( 58 ) and the longest is YMR207C ( 6372 )\n",
      "On chrom chrXI the shortest gene is tD(GUC)K ( 72 ) and the longest is YKR054C ( 12279 )\n",
      "On chrom chrVI the shortest gene is tG(GCC)F1 ( 71 ) and the longest is YFR019W ( 6837 )\n",
      "On chrom chrmt the shortest gene is 9S_rRNA_1 ( 11 ) and the longest is Q0045 ( 12884 )\n",
      "On chrom chrI the shortest gene is tA(UGC)A ( 73 ) and the longest is YAR050W ( 4614 )\n",
      "On chrom chrVII the shortest gene is tG(GCC)G1 ( 71 ) and the longest is YGL195W ( 8019 )\n",
      "On chrom chrV the shortest gene is tG(GCC)E ( 71 ) and the longest is YER155C ( 6504 )\n",
      "On chrom chrVIII the shortest gene is tH(GUG)H ( 72 ) and the longest is YHR099W ( 11235 )\n",
      "On chrom chrIX the shortest gene is tD(GUC)I1 ( 72 ) and the longest is YIL129C ( 7131 )\n",
      "On chrom chrXV the shortest gene is tG(GCC)O1 ( 71 ) and the longest is YOL081W ( 9240 )\n",
      "On chrom chrIII the shortest gene is tG(GCC)C ( 71 ) and the longest is YCR032W ( 6504 )\n",
      "On chrom chrX the shortest gene is YJR151W-A ( 51 ) and the longest is YJR066W ( 7413 )\n",
      "On chrom chrXII the shortest gene is tD(GUC)L1 ( 72 ) and the longest is YLR106C ( 14733 )\n",
      "On chrom chrXVI the shortest gene is tG(GCC)P1 ( 71 ) and the longest is YPR117W ( 7470 )\n",
      "On chrom chrIV the shortest gene is tG(GCC)D1 ( 71 ) and the longest is YDR457W ( 9807 )\n",
      "On chrom chrII the shortest gene is TLC1 ( 1 ) and the longest is YBR140C ( 9279 )\n"
     ]
    }
   ],
   "source": [
    "genes = []\n",
    "chromosomes = []\n",
    "\n",
    "# How many genes are there in *S.cerevisiae*?\n",
    "# Read a tab delimited file which has 5 columns: systematic_name, standard_name, chrom, start, end\n",
    "with open('data/yeast_genes.txt') as yeast_gene_file:\n",
    "    header = yeast_gene_file.readline()\n",
    "    for line in yeast_gene_file:\n",
    "        sys_name, std_name, chrom, start, end = line.strip().split('\\t')\n",
    "        chromosomes.append(chrom) #this will be used later on\n",
    "        genes.append({'sys_name': sys_name,\n",
    "                      'std_name': std_name,  # NB. some genes do not have a standard name\n",
    "                      'chrom': chrom,\n",
    "                      'start': int(start),\n",
    "                      'end': int(end),\n",
    "                      'length': int(end) - int(start) + 1})\n",
    "\n",
    "print(\"There are\", len(gene), \"genes in S.cerevisiae.\")\n",
    "\n",
    "# Which is the longest and which is the shortest gene?\n",
    "shortest = genes[0]['length']\n",
    "shortest_gene = genes[0]['sys_name']\n",
    "longest = 0\n",
    "longest_gene = ''\n",
    "for g in genes:\n",
    "    if g['length'] > longest:\n",
    "        longest = g['length']\n",
    "        longest_gene = g['sys_name']\n",
    "    if g['length'] < shortest:\n",
    "        shortest = g['length']\n",
    "        shortest_gene = g['sys_name']\n",
    "\n",
    "print(\"The shortest gene is\", shortest_gene, \"which is\", shortest, \"bases long.\")\n",
    "print(\"The longest gene is\", longest_gene, \"which is\", longest, \"bases long.\")\n",
    "\n",
    "# How many genes per chromosome? Print the number of genes per chromosome.\n",
    "unique_chrom = set(chromosomes)\n",
    "\n",
    "for chrom in unique_chrom:\n",
    "    genes_per_chrom = 0\n",
    "    for g in genes:\n",
    "        if g['chrom'] == chrom:\n",
    "            genes_per_chrom += 1\n",
    "    print(chrom, \"has\", genes_per_chrom, \"genes\")\n",
    "\n",
    "# For each chromosome, what is the longest and what is the shortest gene?\n",
    "for chrom in unique_chrom:\n",
    "    shortest = 99999999999 #invent a big number which should be bigger than any possible gene size\n",
    "    shortest_gene = ''\n",
    "    longest = 0\n",
    "    longest_gene = ''\n",
    "    for g in genes:\n",
    "        if g['chrom'] == chrom:\n",
    "            if g['length'] > longest:\n",
    "                longest = g['length']\n",
    "                longest_gene = g['sys_name']\n",
    "            if g['length'] < shortest:\n",
    "                shortest = g['length']\n",
    "                shortest_gene = g['sys_name']\n",
    "    print(\"On chrom\", chrom, \"the shortest gene is\", shortest_gene, \"(\", shortest, \")\", \"and the longest is\", longest_gene, \"(\", longest, \")\")\n"
   ]
  },
  {
   "cell_type": "markdown",
   "metadata": {},
   "source": [
    "## Congratulation! You reached the end of day 2! "
   ]
  }
 ],
 "metadata": {
  "kernelspec": {
   "display_name": "Python 3",
   "language": "python",
   "name": "python3"
  },
  "language_info": {
   "codemirror_mode": {
    "name": "ipython",
    "version": 3
   },
   "file_extension": ".py",
   "mimetype": "text/x-python",
   "name": "python",
   "nbconvert_exporter": "python",
   "pygments_lexer": "ipython3",
   "version": "3.6.9"
  }
 },
 "nbformat": 4,
 "nbformat_minor": 1
}
